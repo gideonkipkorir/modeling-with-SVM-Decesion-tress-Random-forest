{
 "cells": [
  {
   "cell_type": "markdown",
   "metadata": {},
   "source": [
    "## Problem statement:\n",
    "Build a model that determines whether or not the patient's symptoms indicate that the patient has hypothyroid.\n",
    "\n",
    "## Metric for success"
   ]
  },
  {
   "cell_type": "code",
   "execution_count": 21,
   "metadata": {},
   "outputs": [],
   "source": [
    "#importing libraries\n",
    "import pandas as pd\n",
    "import numpy as np\n",
    "from sklearn.model_selection import train_test_split\n",
    "from sklearn.ensemble import RandomForestClassifier\n",
    "from sklearn.svm import SVC\n",
    "from sklearn import preprocessing\n",
    "from sklearn.model_selection import GridSearchCV\n",
    "from sklearn.metrics import confusion_matrix,accuracy_score"
   ]
  },
  {
   "cell_type": "code",
   "execution_count": 22,
   "metadata": {},
   "outputs": [
    {
     "data": {
      "text/html": [
       "<div>\n",
       "<style scoped>\n",
       "    .dataframe tbody tr th:only-of-type {\n",
       "        vertical-align: middle;\n",
       "    }\n",
       "\n",
       "    .dataframe tbody tr th {\n",
       "        vertical-align: top;\n",
       "    }\n",
       "\n",
       "    .dataframe thead th {\n",
       "        text-align: right;\n",
       "    }\n",
       "</style>\n",
       "<table border=\"1\" class=\"dataframe\">\n",
       "  <thead>\n",
       "    <tr style=\"text-align: right;\">\n",
       "      <th></th>\n",
       "      <th>status</th>\n",
       "      <th>age</th>\n",
       "      <th>sex</th>\n",
       "      <th>on_thyroxine</th>\n",
       "      <th>query_on_thyroxine</th>\n",
       "      <th>on_antithyroid_medication</th>\n",
       "      <th>thyroid_surgery</th>\n",
       "      <th>query_hypothyroid</th>\n",
       "      <th>query_hyperthyroid</th>\n",
       "      <th>pregnant</th>\n",
       "      <th>...</th>\n",
       "      <th>T3_measured</th>\n",
       "      <th>T3</th>\n",
       "      <th>TT4_measured</th>\n",
       "      <th>TT4</th>\n",
       "      <th>T4U_measured</th>\n",
       "      <th>T4U</th>\n",
       "      <th>FTI_measured</th>\n",
       "      <th>FTI</th>\n",
       "      <th>TBG_measured</th>\n",
       "      <th>TBG</th>\n",
       "    </tr>\n",
       "  </thead>\n",
       "  <tbody>\n",
       "    <tr>\n",
       "      <td>0</td>\n",
       "      <td>hypothyroid</td>\n",
       "      <td>72</td>\n",
       "      <td>M</td>\n",
       "      <td>f</td>\n",
       "      <td>f</td>\n",
       "      <td>f</td>\n",
       "      <td>f</td>\n",
       "      <td>f</td>\n",
       "      <td>f</td>\n",
       "      <td>f</td>\n",
       "      <td>...</td>\n",
       "      <td>y</td>\n",
       "      <td>0.60</td>\n",
       "      <td>y</td>\n",
       "      <td>15</td>\n",
       "      <td>y</td>\n",
       "      <td>1.48</td>\n",
       "      <td>y</td>\n",
       "      <td>10</td>\n",
       "      <td>n</td>\n",
       "      <td>?</td>\n",
       "    </tr>\n",
       "    <tr>\n",
       "      <td>1</td>\n",
       "      <td>hypothyroid</td>\n",
       "      <td>15</td>\n",
       "      <td>F</td>\n",
       "      <td>t</td>\n",
       "      <td>f</td>\n",
       "      <td>f</td>\n",
       "      <td>f</td>\n",
       "      <td>f</td>\n",
       "      <td>f</td>\n",
       "      <td>f</td>\n",
       "      <td>...</td>\n",
       "      <td>y</td>\n",
       "      <td>1.70</td>\n",
       "      <td>y</td>\n",
       "      <td>19</td>\n",
       "      <td>y</td>\n",
       "      <td>1.13</td>\n",
       "      <td>y</td>\n",
       "      <td>17</td>\n",
       "      <td>n</td>\n",
       "      <td>?</td>\n",
       "    </tr>\n",
       "    <tr>\n",
       "      <td>2</td>\n",
       "      <td>hypothyroid</td>\n",
       "      <td>24</td>\n",
       "      <td>M</td>\n",
       "      <td>f</td>\n",
       "      <td>f</td>\n",
       "      <td>f</td>\n",
       "      <td>f</td>\n",
       "      <td>f</td>\n",
       "      <td>f</td>\n",
       "      <td>f</td>\n",
       "      <td>...</td>\n",
       "      <td>y</td>\n",
       "      <td>0.20</td>\n",
       "      <td>y</td>\n",
       "      <td>4</td>\n",
       "      <td>y</td>\n",
       "      <td>1</td>\n",
       "      <td>y</td>\n",
       "      <td>0</td>\n",
       "      <td>n</td>\n",
       "      <td>?</td>\n",
       "    </tr>\n",
       "    <tr>\n",
       "      <td>3</td>\n",
       "      <td>hypothyroid</td>\n",
       "      <td>24</td>\n",
       "      <td>F</td>\n",
       "      <td>f</td>\n",
       "      <td>f</td>\n",
       "      <td>f</td>\n",
       "      <td>f</td>\n",
       "      <td>f</td>\n",
       "      <td>f</td>\n",
       "      <td>f</td>\n",
       "      <td>...</td>\n",
       "      <td>y</td>\n",
       "      <td>0.40</td>\n",
       "      <td>y</td>\n",
       "      <td>6</td>\n",
       "      <td>y</td>\n",
       "      <td>1.04</td>\n",
       "      <td>y</td>\n",
       "      <td>6</td>\n",
       "      <td>n</td>\n",
       "      <td>?</td>\n",
       "    </tr>\n",
       "    <tr>\n",
       "      <td>4</td>\n",
       "      <td>hypothyroid</td>\n",
       "      <td>77</td>\n",
       "      <td>M</td>\n",
       "      <td>f</td>\n",
       "      <td>f</td>\n",
       "      <td>f</td>\n",
       "      <td>f</td>\n",
       "      <td>f</td>\n",
       "      <td>f</td>\n",
       "      <td>f</td>\n",
       "      <td>...</td>\n",
       "      <td>y</td>\n",
       "      <td>1.20</td>\n",
       "      <td>y</td>\n",
       "      <td>57</td>\n",
       "      <td>y</td>\n",
       "      <td>1.28</td>\n",
       "      <td>y</td>\n",
       "      <td>44</td>\n",
       "      <td>n</td>\n",
       "      <td>?</td>\n",
       "    </tr>\n",
       "  </tbody>\n",
       "</table>\n",
       "<p>5 rows × 26 columns</p>\n",
       "</div>"
      ],
      "text/plain": [
       "        status age sex on_thyroxine query_on_thyroxine  \\\n",
       "0  hypothyroid  72   M            f                  f   \n",
       "1  hypothyroid  15   F            t                  f   \n",
       "2  hypothyroid  24   M            f                  f   \n",
       "3  hypothyroid  24   F            f                  f   \n",
       "4  hypothyroid  77   M            f                  f   \n",
       "\n",
       "  on_antithyroid_medication thyroid_surgery query_hypothyroid  \\\n",
       "0                         f               f                 f   \n",
       "1                         f               f                 f   \n",
       "2                         f               f                 f   \n",
       "3                         f               f                 f   \n",
       "4                         f               f                 f   \n",
       "\n",
       "  query_hyperthyroid pregnant  ... T3_measured    T3 TT4_measured TT4  \\\n",
       "0                  f        f  ...           y  0.60            y  15   \n",
       "1                  f        f  ...           y  1.70            y  19   \n",
       "2                  f        f  ...           y  0.20            y   4   \n",
       "3                  f        f  ...           y  0.40            y   6   \n",
       "4                  f        f  ...           y  1.20            y  57   \n",
       "\n",
       "  T4U_measured   T4U FTI_measured FTI TBG_measured TBG  \n",
       "0            y  1.48            y  10            n   ?  \n",
       "1            y  1.13            y  17            n   ?  \n",
       "2            y     1            y   0            n   ?  \n",
       "3            y  1.04            y   6            n   ?  \n",
       "4            y  1.28            y  44            n   ?  \n",
       "\n",
       "[5 rows x 26 columns]"
      ]
     },
     "execution_count": 22,
     "metadata": {},
     "output_type": "execute_result"
    }
   ],
   "source": [
    "#loading our datasets\n",
    "df = pd.read_csv(r'C:\\Users\\Gideon Kipkorir\\Desktop\\colab\\Datasets\\hypothyroid.csv')\n",
    "df.head()"
   ]
  },
  {
   "cell_type": "markdown",
   "metadata": {},
   "source": [
    "## Eploratory Data Analysis"
   ]
  },
  {
   "cell_type": "code",
   "execution_count": 23,
   "metadata": {},
   "outputs": [
    {
     "data": {
      "text/plain": [
       "(3163, 26)"
      ]
     },
     "execution_count": 23,
     "metadata": {},
     "output_type": "execute_result"
    }
   ],
   "source": [
    "#columns and rows\n",
    "df.shape"
   ]
  },
  {
   "cell_type": "code",
   "execution_count": 24,
   "metadata": {},
   "outputs": [
    {
     "data": {
      "text/plain": [
       "Index(['status', 'age', 'sex', 'on_thyroxine', 'query_on_thyroxine',\n",
       "       'on_antithyroid_medication', 'thyroid_surgery', 'query_hypothyroid',\n",
       "       'query_hyperthyroid', 'pregnant', 'sick', 'tumor', 'lithium', 'goitre',\n",
       "       'TSH_measured', 'TSH', 'T3_measured', 'T3', 'TT4_measured', 'TT4',\n",
       "       'T4U_measured', 'T4U', 'FTI_measured', 'FTI', 'TBG_measured', 'TBG'],\n",
       "      dtype='object')"
      ]
     },
     "execution_count": 24,
     "metadata": {},
     "output_type": "execute_result"
    }
   ],
   "source": [
    "#columns in our dataset\n",
    "df.columns"
   ]
  },
  {
   "cell_type": "code",
   "execution_count": 25,
   "metadata": {},
   "outputs": [
    {
     "data": {
      "text/plain": [
       "status                       0\n",
       "age                          0\n",
       "sex                          0\n",
       "on_thyroxine                 0\n",
       "query_on_thyroxine           0\n",
       "on_antithyroid_medication    0\n",
       "thyroid_surgery              0\n",
       "query_hypothyroid            0\n",
       "query_hyperthyroid           0\n",
       "pregnant                     0\n",
       "sick                         0\n",
       "tumor                        0\n",
       "lithium                      0\n",
       "goitre                       0\n",
       "TSH_measured                 0\n",
       "TSH                          0\n",
       "T3_measured                  0\n",
       "T3                           0\n",
       "TT4_measured                 0\n",
       "TT4                          0\n",
       "T4U_measured                 0\n",
       "T4U                          0\n",
       "FTI_measured                 0\n",
       "FTI                          0\n",
       "TBG_measured                 0\n",
       "TBG                          0\n",
       "dtype: int64"
      ]
     },
     "execution_count": 25,
     "metadata": {},
     "output_type": "execute_result"
    }
   ],
   "source": [
    "#checking for null/ missing values\n",
    "df.isnull().sum()"
   ]
  },
  {
   "cell_type": "code",
   "execution_count": 26,
   "metadata": {},
   "outputs": [
    {
     "name": "stdout",
     "output_type": "stream",
     "text": [
      "<class 'pandas.core.frame.DataFrame'>\n",
      "RangeIndex: 3163 entries, 0 to 3162\n",
      "Data columns (total 26 columns):\n",
      "status                       3163 non-null object\n",
      "age                          3163 non-null object\n",
      "sex                          3163 non-null object\n",
      "on_thyroxine                 3163 non-null object\n",
      "query_on_thyroxine           3163 non-null object\n",
      "on_antithyroid_medication    3163 non-null object\n",
      "thyroid_surgery              3163 non-null object\n",
      "query_hypothyroid            3163 non-null object\n",
      "query_hyperthyroid           3163 non-null object\n",
      "pregnant                     3163 non-null object\n",
      "sick                         3163 non-null object\n",
      "tumor                        3163 non-null object\n",
      "lithium                      3163 non-null object\n",
      "goitre                       3163 non-null object\n",
      "TSH_measured                 3163 non-null object\n",
      "TSH                          3163 non-null object\n",
      "T3_measured                  3163 non-null object\n",
      "T3                           3163 non-null object\n",
      "TT4_measured                 3163 non-null object\n",
      "TT4                          3163 non-null object\n",
      "T4U_measured                 3163 non-null object\n",
      "T4U                          3163 non-null object\n",
      "FTI_measured                 3163 non-null object\n",
      "FTI                          3163 non-null object\n",
      "TBG_measured                 3163 non-null object\n",
      "TBG                          3163 non-null object\n",
      "dtypes: object(26)\n",
      "memory usage: 642.6+ KB\n"
     ]
    }
   ],
   "source": [
    "#data types\n",
    "df.info()"
   ]
  },
  {
   "cell_type": "markdown",
   "metadata": {},
   "source": [
    "## Feature Engineering"
   ]
  },
  {
   "cell_type": "code",
   "execution_count": 27,
   "metadata": {},
   "outputs": [
    {
     "data": {
      "text/html": [
       "<div>\n",
       "<style scoped>\n",
       "    .dataframe tbody tr th:only-of-type {\n",
       "        vertical-align: middle;\n",
       "    }\n",
       "\n",
       "    .dataframe tbody tr th {\n",
       "        vertical-align: top;\n",
       "    }\n",
       "\n",
       "    .dataframe thead th {\n",
       "        text-align: right;\n",
       "    }\n",
       "</style>\n",
       "<table border=\"1\" class=\"dataframe\">\n",
       "  <thead>\n",
       "    <tr style=\"text-align: right;\">\n",
       "      <th></th>\n",
       "      <th>status</th>\n",
       "      <th>age</th>\n",
       "      <th>sex</th>\n",
       "      <th>on_thyroxine</th>\n",
       "      <th>query_on_thyroxine</th>\n",
       "      <th>on_antithyroid_medication</th>\n",
       "      <th>thyroid_surgery</th>\n",
       "      <th>query_hypothyroid</th>\n",
       "      <th>query_hyperthyroid</th>\n",
       "      <th>pregnant</th>\n",
       "      <th>...</th>\n",
       "      <th>T3_measured</th>\n",
       "      <th>T3</th>\n",
       "      <th>TT4_measured</th>\n",
       "      <th>TT4</th>\n",
       "      <th>T4U_measured</th>\n",
       "      <th>T4U</th>\n",
       "      <th>FTI_measured</th>\n",
       "      <th>FTI</th>\n",
       "      <th>TBG_measured</th>\n",
       "      <th>TBG</th>\n",
       "    </tr>\n",
       "  </thead>\n",
       "  <tbody>\n",
       "    <tr>\n",
       "      <td>109</td>\n",
       "      <td>hypothyroid</td>\n",
       "      <td>78</td>\n",
       "      <td>F</td>\n",
       "      <td>f</td>\n",
       "      <td>f</td>\n",
       "      <td>f</td>\n",
       "      <td>f</td>\n",
       "      <td>t</td>\n",
       "      <td>f</td>\n",
       "      <td>f</td>\n",
       "      <td>...</td>\n",
       "      <td>y</td>\n",
       "      <td>0.90</td>\n",
       "      <td>y</td>\n",
       "      <td>50</td>\n",
       "      <td>y</td>\n",
       "      <td>0.84</td>\n",
       "      <td>y</td>\n",
       "      <td>60</td>\n",
       "      <td>n</td>\n",
       "      <td>NaN</td>\n",
       "    </tr>\n",
       "    <tr>\n",
       "      <td>2333</td>\n",
       "      <td>negative</td>\n",
       "      <td>19</td>\n",
       "      <td>F</td>\n",
       "      <td>f</td>\n",
       "      <td>f</td>\n",
       "      <td>f</td>\n",
       "      <td>f</td>\n",
       "      <td>f</td>\n",
       "      <td>f</td>\n",
       "      <td>f</td>\n",
       "      <td>...</td>\n",
       "      <td>n</td>\n",
       "      <td>NaN</td>\n",
       "      <td>n</td>\n",
       "      <td>NaN</td>\n",
       "      <td>n</td>\n",
       "      <td>NaN</td>\n",
       "      <td>n</td>\n",
       "      <td>NaN</td>\n",
       "      <td>y</td>\n",
       "      <td>65</td>\n",
       "    </tr>\n",
       "    <tr>\n",
       "      <td>246</td>\n",
       "      <td>negative</td>\n",
       "      <td>27</td>\n",
       "      <td>F</td>\n",
       "      <td>f</td>\n",
       "      <td>f</td>\n",
       "      <td>f</td>\n",
       "      <td>f</td>\n",
       "      <td>f</td>\n",
       "      <td>f</td>\n",
       "      <td>f</td>\n",
       "      <td>...</td>\n",
       "      <td>y</td>\n",
       "      <td>1.80</td>\n",
       "      <td>y</td>\n",
       "      <td>102</td>\n",
       "      <td>y</td>\n",
       "      <td>1.09</td>\n",
       "      <td>y</td>\n",
       "      <td>94</td>\n",
       "      <td>n</td>\n",
       "      <td>NaN</td>\n",
       "    </tr>\n",
       "    <tr>\n",
       "      <td>343</td>\n",
       "      <td>negative</td>\n",
       "      <td>87</td>\n",
       "      <td>F</td>\n",
       "      <td>f</td>\n",
       "      <td>f</td>\n",
       "      <td>f</td>\n",
       "      <td>f</td>\n",
       "      <td>f</td>\n",
       "      <td>f</td>\n",
       "      <td>f</td>\n",
       "      <td>...</td>\n",
       "      <td>n</td>\n",
       "      <td>NaN</td>\n",
       "      <td>y</td>\n",
       "      <td>135</td>\n",
       "      <td>y</td>\n",
       "      <td>0.80</td>\n",
       "      <td>y</td>\n",
       "      <td>170</td>\n",
       "      <td>n</td>\n",
       "      <td>NaN</td>\n",
       "    </tr>\n",
       "    <tr>\n",
       "      <td>106</td>\n",
       "      <td>hypothyroid</td>\n",
       "      <td>50</td>\n",
       "      <td>F</td>\n",
       "      <td>f</td>\n",
       "      <td>f</td>\n",
       "      <td>f</td>\n",
       "      <td>f</td>\n",
       "      <td>f</td>\n",
       "      <td>f</td>\n",
       "      <td>f</td>\n",
       "      <td>...</td>\n",
       "      <td>y</td>\n",
       "      <td>0.20</td>\n",
       "      <td>y</td>\n",
       "      <td>10</td>\n",
       "      <td>y</td>\n",
       "      <td>1.13</td>\n",
       "      <td>y</td>\n",
       "      <td>9</td>\n",
       "      <td>n</td>\n",
       "      <td>NaN</td>\n",
       "    </tr>\n",
       "    <tr>\n",
       "      <td>2752</td>\n",
       "      <td>negative</td>\n",
       "      <td>15</td>\n",
       "      <td>F</td>\n",
       "      <td>f</td>\n",
       "      <td>f</td>\n",
       "      <td>f</td>\n",
       "      <td>f</td>\n",
       "      <td>f</td>\n",
       "      <td>f</td>\n",
       "      <td>f</td>\n",
       "      <td>...</td>\n",
       "      <td>n</td>\n",
       "      <td>NaN</td>\n",
       "      <td>n</td>\n",
       "      <td>NaN</td>\n",
       "      <td>n</td>\n",
       "      <td>NaN</td>\n",
       "      <td>n</td>\n",
       "      <td>NaN</td>\n",
       "      <td>y</td>\n",
       "      <td>23</td>\n",
       "    </tr>\n",
       "    <tr>\n",
       "      <td>2503</td>\n",
       "      <td>negative</td>\n",
       "      <td>20</td>\n",
       "      <td>F</td>\n",
       "      <td>f</td>\n",
       "      <td>f</td>\n",
       "      <td>f</td>\n",
       "      <td>f</td>\n",
       "      <td>f</td>\n",
       "      <td>t</td>\n",
       "      <td>f</td>\n",
       "      <td>...</td>\n",
       "      <td>n</td>\n",
       "      <td>NaN</td>\n",
       "      <td>n</td>\n",
       "      <td>NaN</td>\n",
       "      <td>n</td>\n",
       "      <td>NaN</td>\n",
       "      <td>n</td>\n",
       "      <td>NaN</td>\n",
       "      <td>y</td>\n",
       "      <td>108</td>\n",
       "    </tr>\n",
       "    <tr>\n",
       "      <td>1763</td>\n",
       "      <td>negative</td>\n",
       "      <td>87</td>\n",
       "      <td>F</td>\n",
       "      <td>f</td>\n",
       "      <td>f</td>\n",
       "      <td>f</td>\n",
       "      <td>f</td>\n",
       "      <td>f</td>\n",
       "      <td>f</td>\n",
       "      <td>f</td>\n",
       "      <td>...</td>\n",
       "      <td>y</td>\n",
       "      <td>1.10</td>\n",
       "      <td>y</td>\n",
       "      <td>105</td>\n",
       "      <td>y</td>\n",
       "      <td>1.02</td>\n",
       "      <td>y</td>\n",
       "      <td>103</td>\n",
       "      <td>n</td>\n",
       "      <td>NaN</td>\n",
       "    </tr>\n",
       "  </tbody>\n",
       "</table>\n",
       "<p>8 rows × 26 columns</p>\n",
       "</div>"
      ],
      "text/plain": [
       "           status age sex on_thyroxine query_on_thyroxine  \\\n",
       "109   hypothyroid  78   F            f                  f   \n",
       "2333     negative  19   F            f                  f   \n",
       "246      negative  27   F            f                  f   \n",
       "343      negative  87   F            f                  f   \n",
       "106   hypothyroid  50   F            f                  f   \n",
       "2752     negative  15   F            f                  f   \n",
       "2503     negative  20   F            f                  f   \n",
       "1763     negative  87   F            f                  f   \n",
       "\n",
       "     on_antithyroid_medication thyroid_surgery query_hypothyroid  \\\n",
       "109                          f               f                 t   \n",
       "2333                         f               f                 f   \n",
       "246                          f               f                 f   \n",
       "343                          f               f                 f   \n",
       "106                          f               f                 f   \n",
       "2752                         f               f                 f   \n",
       "2503                         f               f                 f   \n",
       "1763                         f               f                 f   \n",
       "\n",
       "     query_hyperthyroid pregnant  ... T3_measured    T3 TT4_measured  TT4  \\\n",
       "109                   f        f  ...           y  0.90            y   50   \n",
       "2333                  f        f  ...           n   NaN            n  NaN   \n",
       "246                   f        f  ...           y  1.80            y  102   \n",
       "343                   f        f  ...           n   NaN            y  135   \n",
       "106                   f        f  ...           y  0.20            y   10   \n",
       "2752                  f        f  ...           n   NaN            n  NaN   \n",
       "2503                  t        f  ...           n   NaN            n  NaN   \n",
       "1763                  f        f  ...           y  1.10            y  105   \n",
       "\n",
       "     T4U_measured   T4U FTI_measured  FTI TBG_measured  TBG  \n",
       "109             y  0.84            y   60            n  NaN  \n",
       "2333            n   NaN            n  NaN            y   65  \n",
       "246             y  1.09            y   94            n  NaN  \n",
       "343             y  0.80            y  170            n  NaN  \n",
       "106             y  1.13            y    9            n  NaN  \n",
       "2752            n   NaN            n  NaN            y   23  \n",
       "2503            n   NaN            n  NaN            y  108  \n",
       "1763            y  1.02            y  103            n  NaN  \n",
       "\n",
       "[8 rows x 26 columns]"
      ]
     },
     "execution_count": 27,
     "metadata": {},
     "output_type": "execute_result"
    }
   ],
   "source": [
    "#replacing '?' with 0. \"?\" was interpreted to stand for unavailability of the feature being tested\n",
    "df.replace(to_replace = '?', value = np.nan, inplace = True)\n",
    "df.sample(8)"
   ]
  },
  {
   "cell_type": "code",
   "execution_count": 31,
   "metadata": {},
   "outputs": [
    {
     "data": {
      "text/plain": [
       "status                          0\n",
       "age                           446\n",
       "sex                            73\n",
       "on_thyroxine                    0\n",
       "query_on_thyroxine              0\n",
       "on_antithyroid_medication       0\n",
       "thyroid_surgery                 0\n",
       "query_hypothyroid               0\n",
       "query_hyperthyroid              0\n",
       "pregnant                        0\n",
       "sick                            0\n",
       "tumor                           0\n",
       "lithium                         0\n",
       "goitre                          0\n",
       "TSH_measured                    0\n",
       "TSH                           468\n",
       "T3_measured                     0\n",
       "T3                            695\n",
       "TT4_measured                    0\n",
       "TT4                           249\n",
       "T4U_measured                    0\n",
       "T4U                           248\n",
       "FTI_measured                    0\n",
       "FTI                           247\n",
       "TBG_measured                    0\n",
       "TBG                          2903\n",
       "dtype: int64"
      ]
     },
     "execution_count": 31,
     "metadata": {},
     "output_type": "execute_result"
    }
   ],
   "source": [
    "df.isnull().sum()"
   ]
  },
  {
   "cell_type": "code",
   "execution_count": 32,
   "metadata": {},
   "outputs": [
    {
     "data": {
      "text/plain": [
       "status                       0\n",
       "age                          0\n",
       "sex                          0\n",
       "on_thyroxine                 0\n",
       "query_on_thyroxine           0\n",
       "on_antithyroid_medication    0\n",
       "thyroid_surgery              0\n",
       "query_hypothyroid            0\n",
       "query_hyperthyroid           0\n",
       "pregnant                     0\n",
       "sick                         0\n",
       "tumor                        0\n",
       "lithium                      0\n",
       "goitre                       0\n",
       "TSH_measured                 0\n",
       "TSH                          0\n",
       "T3_measured                  0\n",
       "T3                           0\n",
       "TT4_measured                 0\n",
       "TT4                          0\n",
       "T4U_measured                 0\n",
       "T4U                          0\n",
       "FTI_measured                 0\n",
       "FTI                          0\n",
       "TBG_measured                 0\n",
       "TBG                          0\n",
       "dtype: int64"
      ]
     },
     "execution_count": 32,
     "metadata": {},
     "output_type": "execute_result"
    }
   ],
   "source": [
    "#Replacing missing values\n",
    "\n",
    "df['age'] = df.age.fillna(df.age.mean())\n",
    "df[['TSH','T3','TT4','T4U','FTI', 'TBG','TBG' ]] = df[['TSH','T3','TT4','T4U','FTI', 'TBG','TBG' ]].fillna(0)\n",
    "# imputed that way(above) with an understanding  that Random trees works fine despite missing values\n",
    "df.sex = df.sex.fillna(method = 'bfill')\n",
    "df.isnull().sum()"
   ]
  },
  {
   "cell_type": "code",
   "execution_count": 33,
   "metadata": {},
   "outputs": [],
   "source": [
    "#converting numerical data into inergers and float datatypes\n",
    "df[['age', 'T3','TT4','T4U', 'FTI', 'TBG','TSH']] = df[['age', 'T3','TT4','T4U', 'FTI', 'TBG','TSH']].astype(float)\n",
    "df['age'] = df['age'].astype(int)\n"
   ]
  },
  {
   "cell_type": "code",
   "execution_count": 34,
   "metadata": {},
   "outputs": [
    {
     "data": {
      "text/plain": [
       "Index(['status', 'sex', 'on_thyroxine', 'query_on_thyroxine',\n",
       "       'on_antithyroid_medication', 'thyroid_surgery', 'query_hypothyroid',\n",
       "       'query_hyperthyroid', 'pregnant', 'sick', 'tumor', 'lithium', 'goitre',\n",
       "       'TSH_measured', 'T3_measured', 'TT4_measured', 'T4U_measured',\n",
       "       'FTI_measured', 'TBG_measured'],\n",
       "      dtype='object')"
      ]
     },
     "execution_count": 34,
     "metadata": {},
     "output_type": "execute_result"
    }
   ],
   "source": [
    "#Getting categorical features\n",
    "df.dtypes[df.dtypes == 'object'].index"
   ]
  },
  {
   "cell_type": "code",
   "execution_count": 35,
   "metadata": {},
   "outputs": [],
   "source": [
    "#label enconding categorical data into numerical\n",
    "le = preprocessing.LabelEncoder()\n",
    "\n",
    "\n",
    "df[['status', 'sex', 'on_thyroxine', 'query_on_thyroxine',\n",
    "       'on_antithyroid_medication', 'thyroid_surgery', 'query_hypothyroid',\n",
    "       'query_hyperthyroid', 'pregnant', 'sick', 'tumor', 'lithium', 'goitre',\n",
    "       'TSH_measured', 'T3_measured', 'TT4_measured', 'T4U_measured',\n",
    "       'FTI_measured', 'TBG_measured']] = df[['status', 'sex', 'on_thyroxine', 'query_on_thyroxine',\n",
    "       'on_antithyroid_medication', 'thyroid_surgery', 'query_hypothyroid',\n",
    "       'query_hyperthyroid', 'pregnant', 'sick', 'tumor', 'lithium', 'goitre',\n",
    "       'TSH_measured', 'T3_measured', 'TT4_measured', 'T4U_measured',\n",
    "       'FTI_measured', 'TBG_measured']].apply(le.fit_transform)\n",
    "\n"
   ]
  },
  {
   "cell_type": "code",
   "execution_count": 36,
   "metadata": {},
   "outputs": [
    {
     "data": {
      "text/html": [
       "<div>\n",
       "<style scoped>\n",
       "    .dataframe tbody tr th:only-of-type {\n",
       "        vertical-align: middle;\n",
       "    }\n",
       "\n",
       "    .dataframe tbody tr th {\n",
       "        vertical-align: top;\n",
       "    }\n",
       "\n",
       "    .dataframe thead th {\n",
       "        text-align: right;\n",
       "    }\n",
       "</style>\n",
       "<table border=\"1\" class=\"dataframe\">\n",
       "  <thead>\n",
       "    <tr style=\"text-align: right;\">\n",
       "      <th></th>\n",
       "      <th>status</th>\n",
       "      <th>age</th>\n",
       "      <th>sex</th>\n",
       "      <th>on_thyroxine</th>\n",
       "      <th>query_on_thyroxine</th>\n",
       "      <th>on_antithyroid_medication</th>\n",
       "      <th>thyroid_surgery</th>\n",
       "      <th>query_hypothyroid</th>\n",
       "      <th>query_hyperthyroid</th>\n",
       "      <th>pregnant</th>\n",
       "      <th>...</th>\n",
       "      <th>T3_measured</th>\n",
       "      <th>T3</th>\n",
       "      <th>TT4_measured</th>\n",
       "      <th>TT4</th>\n",
       "      <th>T4U_measured</th>\n",
       "      <th>T4U</th>\n",
       "      <th>FTI_measured</th>\n",
       "      <th>FTI</th>\n",
       "      <th>TBG_measured</th>\n",
       "      <th>TBG</th>\n",
       "    </tr>\n",
       "  </thead>\n",
       "  <tbody>\n",
       "    <tr>\n",
       "      <td>0</td>\n",
       "      <td>0</td>\n",
       "      <td>72</td>\n",
       "      <td>1</td>\n",
       "      <td>0</td>\n",
       "      <td>0</td>\n",
       "      <td>0</td>\n",
       "      <td>0</td>\n",
       "      <td>0</td>\n",
       "      <td>0</td>\n",
       "      <td>0</td>\n",
       "      <td>...</td>\n",
       "      <td>1</td>\n",
       "      <td>0.6</td>\n",
       "      <td>1</td>\n",
       "      <td>15.0</td>\n",
       "      <td>1</td>\n",
       "      <td>1.48</td>\n",
       "      <td>1</td>\n",
       "      <td>10.0</td>\n",
       "      <td>0</td>\n",
       "      <td>0.0</td>\n",
       "    </tr>\n",
       "    <tr>\n",
       "      <td>1</td>\n",
       "      <td>0</td>\n",
       "      <td>15</td>\n",
       "      <td>0</td>\n",
       "      <td>1</td>\n",
       "      <td>0</td>\n",
       "      <td>0</td>\n",
       "      <td>0</td>\n",
       "      <td>0</td>\n",
       "      <td>0</td>\n",
       "      <td>0</td>\n",
       "      <td>...</td>\n",
       "      <td>1</td>\n",
       "      <td>1.7</td>\n",
       "      <td>1</td>\n",
       "      <td>19.0</td>\n",
       "      <td>1</td>\n",
       "      <td>1.13</td>\n",
       "      <td>1</td>\n",
       "      <td>17.0</td>\n",
       "      <td>0</td>\n",
       "      <td>0.0</td>\n",
       "    </tr>\n",
       "    <tr>\n",
       "      <td>2</td>\n",
       "      <td>0</td>\n",
       "      <td>24</td>\n",
       "      <td>1</td>\n",
       "      <td>0</td>\n",
       "      <td>0</td>\n",
       "      <td>0</td>\n",
       "      <td>0</td>\n",
       "      <td>0</td>\n",
       "      <td>0</td>\n",
       "      <td>0</td>\n",
       "      <td>...</td>\n",
       "      <td>1</td>\n",
       "      <td>0.2</td>\n",
       "      <td>1</td>\n",
       "      <td>4.0</td>\n",
       "      <td>1</td>\n",
       "      <td>1.00</td>\n",
       "      <td>1</td>\n",
       "      <td>0.0</td>\n",
       "      <td>0</td>\n",
       "      <td>0.0</td>\n",
       "    </tr>\n",
       "    <tr>\n",
       "      <td>3</td>\n",
       "      <td>0</td>\n",
       "      <td>24</td>\n",
       "      <td>0</td>\n",
       "      <td>0</td>\n",
       "      <td>0</td>\n",
       "      <td>0</td>\n",
       "      <td>0</td>\n",
       "      <td>0</td>\n",
       "      <td>0</td>\n",
       "      <td>0</td>\n",
       "      <td>...</td>\n",
       "      <td>1</td>\n",
       "      <td>0.4</td>\n",
       "      <td>1</td>\n",
       "      <td>6.0</td>\n",
       "      <td>1</td>\n",
       "      <td>1.04</td>\n",
       "      <td>1</td>\n",
       "      <td>6.0</td>\n",
       "      <td>0</td>\n",
       "      <td>0.0</td>\n",
       "    </tr>\n",
       "    <tr>\n",
       "      <td>4</td>\n",
       "      <td>0</td>\n",
       "      <td>77</td>\n",
       "      <td>1</td>\n",
       "      <td>0</td>\n",
       "      <td>0</td>\n",
       "      <td>0</td>\n",
       "      <td>0</td>\n",
       "      <td>0</td>\n",
       "      <td>0</td>\n",
       "      <td>0</td>\n",
       "      <td>...</td>\n",
       "      <td>1</td>\n",
       "      <td>1.2</td>\n",
       "      <td>1</td>\n",
       "      <td>57.0</td>\n",
       "      <td>1</td>\n",
       "      <td>1.28</td>\n",
       "      <td>1</td>\n",
       "      <td>44.0</td>\n",
       "      <td>0</td>\n",
       "      <td>0.0</td>\n",
       "    </tr>\n",
       "  </tbody>\n",
       "</table>\n",
       "<p>5 rows × 26 columns</p>\n",
       "</div>"
      ],
      "text/plain": [
       "   status  age  sex  on_thyroxine  query_on_thyroxine  \\\n",
       "0       0   72    1             0                   0   \n",
       "1       0   15    0             1                   0   \n",
       "2       0   24    1             0                   0   \n",
       "3       0   24    0             0                   0   \n",
       "4       0   77    1             0                   0   \n",
       "\n",
       "   on_antithyroid_medication  thyroid_surgery  query_hypothyroid  \\\n",
       "0                          0                0                  0   \n",
       "1                          0                0                  0   \n",
       "2                          0                0                  0   \n",
       "3                          0                0                  0   \n",
       "4                          0                0                  0   \n",
       "\n",
       "   query_hyperthyroid  pregnant  ...  T3_measured   T3  TT4_measured   TT4  \\\n",
       "0                   0         0  ...            1  0.6             1  15.0   \n",
       "1                   0         0  ...            1  1.7             1  19.0   \n",
       "2                   0         0  ...            1  0.2             1   4.0   \n",
       "3                   0         0  ...            1  0.4             1   6.0   \n",
       "4                   0         0  ...            1  1.2             1  57.0   \n",
       "\n",
       "   T4U_measured   T4U  FTI_measured   FTI  TBG_measured  TBG  \n",
       "0             1  1.48             1  10.0             0  0.0  \n",
       "1             1  1.13             1  17.0             0  0.0  \n",
       "2             1  1.00             1   0.0             0  0.0  \n",
       "3             1  1.04             1   6.0             0  0.0  \n",
       "4             1  1.28             1  44.0             0  0.0  \n",
       "\n",
       "[5 rows x 26 columns]"
      ]
     },
     "execution_count": 36,
     "metadata": {},
     "output_type": "execute_result"
    }
   ],
   "source": [
    "df.head()"
   ]
  },
  {
   "cell_type": "code",
   "execution_count": 37,
   "metadata": {},
   "outputs": [
    {
     "name": "stdout",
     "output_type": "stream",
     "text": [
      "<class 'pandas.core.frame.DataFrame'>\n",
      "RangeIndex: 3163 entries, 0 to 3162\n",
      "Data columns (total 26 columns):\n",
      "status                       3163 non-null int32\n",
      "age                          3163 non-null int32\n",
      "sex                          3163 non-null int32\n",
      "on_thyroxine                 3163 non-null int32\n",
      "query_on_thyroxine           3163 non-null int32\n",
      "on_antithyroid_medication    3163 non-null int32\n",
      "thyroid_surgery              3163 non-null int32\n",
      "query_hypothyroid            3163 non-null int32\n",
      "query_hyperthyroid           3163 non-null int32\n",
      "pregnant                     3163 non-null int32\n",
      "sick                         3163 non-null int32\n",
      "tumor                        3163 non-null int32\n",
      "lithium                      3163 non-null int32\n",
      "goitre                       3163 non-null int32\n",
      "TSH_measured                 3163 non-null int32\n",
      "TSH                          3163 non-null float64\n",
      "T3_measured                  3163 non-null int32\n",
      "T3                           3163 non-null float64\n",
      "TT4_measured                 3163 non-null int32\n",
      "TT4                          3163 non-null float64\n",
      "T4U_measured                 3163 non-null int32\n",
      "T4U                          3163 non-null float64\n",
      "FTI_measured                 3163 non-null int32\n",
      "FTI                          3163 non-null float64\n",
      "TBG_measured                 3163 non-null int32\n",
      "TBG                          3163 non-null float64\n",
      "dtypes: float64(6), int32(20)\n",
      "memory usage: 395.5 KB\n"
     ]
    }
   ],
   "source": [
    "df.info()"
   ]
  },
  {
   "cell_type": "code",
   "execution_count": 38,
   "metadata": {},
   "outputs": [],
   "source": [
    "#dividing into dependent and independent variables\n",
    "y = df.status.values\n",
    "test_features = df.columns.to_list()\n",
    "test_features.remove('status')\n",
    "x = df[test_features].values\n"
   ]
  },
  {
   "cell_type": "code",
   "execution_count": 49,
   "metadata": {},
   "outputs": [],
   "source": [
    "#spliting our dataset into train and slit\n",
    "x_train,x_test,y_train,y_test = train_test_split(x,y , test_size = 0.2, random_state = 40)\n",
    "# train_data, test_data = train_test_split(df, test_size=0.2,stratify=df['status'])\n",
    "# train_data['status'].value_counts()\n",
    "\n",
    "# test_data['status'].value_counts()"
   ]
  },
  {
   "cell_type": "markdown",
   "metadata": {},
   "source": [
    "## Modelling using Random Forests Approach"
   ]
  },
  {
   "cell_type": "code",
   "execution_count": 50,
   "metadata": {},
   "outputs": [
    {
     "data": {
      "text/plain": [
       "{'max_depth': 11, 'min_samples_split': 6, 'n_estimators': 100}"
      ]
     },
     "execution_count": 50,
     "metadata": {},
     "output_type": "execute_result"
    }
   ],
   "source": [
    "# using grid search tom set our parameters\n",
    "\n",
    "param_grid = {'min_samples_split' : [3,4,6,10,20,24], 'n_estimators' : [100,200,300,400], 'max_depth': [4,5,7,10,11,12] }\n",
    "search = GridSearchCV(RandomForestClassifier(), param_grid, cv = 5,n_jobs = 1,scoring='accuracy', refit =True)\n",
    "search.fit(x_train,y_train)\n",
    "search.best_params_"
   ]
  },
  {
   "cell_type": "code",
   "execution_count": 51,
   "metadata": {},
   "outputs": [],
   "source": [
    "ranfc = RandomForestClassifier(n_estimators =100, max_depth = 11, min_samples_split = 6)\n",
    "ranfc = ranfc.fit(x_train, y_train)"
   ]
  },
  {
   "cell_type": "code",
   "execution_count": 52,
   "metadata": {},
   "outputs": [
    {
     "name": "stdout",
     "output_type": "stream",
     "text": [
      "0.9889415481832543\n",
      "[[ 23   5]\n",
      " [  2 603]]\n"
     ]
    }
   ],
   "source": [
    "y_pred = ranfc.predict(x_test)\n",
    "print( accuracy_score(y_test, y_pred))\n",
    "print(confusion_matrix(y_test,y_pred))"
   ]
  },
  {
   "cell_type": "markdown",
   "metadata": {},
   "source": [
    "**Observation:** in general, our model had 98.9% accuracy which encouraging considering it is the baseline model.However, in 5 out of 28 were incorrect predictions(approx- 80% accuracy) which is a big concern for this category, while 2 out of 605 wrong predictions is fairly good prediction (approx - 99.7% accuracy)."
   ]
  },
  {
   "cell_type": "markdown",
   "metadata": {},
   "source": [
    "Visualization of the random forest\n"
   ]
  },
  {
   "cell_type": "code",
   "execution_count": 55,
   "metadata": {},
   "outputs": [
    {
     "ename": "AttributeError",
     "evalue": "module 'pydotplus' has no attribute 'graph_from_dot_df'",
     "output_type": "error",
     "traceback": [
      "\u001b[1;31m---------------------------------------------------------------------------\u001b[0m",
      "\u001b[1;31mAttributeError\u001b[0m                            Traceback (most recent call last)",
      "\u001b[1;32m<ipython-input-55-40fb5dc78e2d>\u001b[0m in \u001b[0;36m<module>\u001b[1;34m\u001b[0m\n\u001b[0;32m     12\u001b[0m                 special_characters=True,feature_names = test_features)\n\u001b[0;32m     13\u001b[0m \u001b[1;31m# Draw graph\u001b[0m\u001b[1;33m\u001b[0m\u001b[1;33m\u001b[0m\u001b[1;33m\u001b[0m\u001b[0m\n\u001b[1;32m---> 14\u001b[1;33m \u001b[0mgraph\u001b[0m \u001b[1;33m=\u001b[0m \u001b[0mpydotplus\u001b[0m\u001b[1;33m.\u001b[0m\u001b[0mgraph_from_dot_df\u001b[0m\u001b[1;33m(\u001b[0m\u001b[0mdot_df\u001b[0m\u001b[1;33m.\u001b[0m\u001b[0mgetvalue\u001b[0m\u001b[1;33m(\u001b[0m\u001b[1;33m)\u001b[0m\u001b[1;33m)\u001b[0m\u001b[1;33m\u001b[0m\u001b[1;33m\u001b[0m\u001b[0m\n\u001b[0m\u001b[0;32m     15\u001b[0m \u001b[0mgraph\u001b[0m\u001b[1;33m.\u001b[0m\u001b[0mwrite_png\u001b[0m\u001b[1;33m(\u001b[0m\u001b[1;34m'hypothyroid.png'\u001b[0m\u001b[1;33m)\u001b[0m\u001b[1;33m\u001b[0m\u001b[1;33m\u001b[0m\u001b[0m\n\u001b[0;32m     16\u001b[0m \u001b[0mImage\u001b[0m\u001b[1;33m(\u001b[0m\u001b[0mgraph\u001b[0m\u001b[1;33m.\u001b[0m\u001b[0mcreate_png\u001b[0m\u001b[1;33m(\u001b[0m\u001b[1;33m)\u001b[0m\u001b[1;33m)\u001b[0m\u001b[1;33m\u001b[0m\u001b[1;33m\u001b[0m\u001b[0m\n",
      "\u001b[1;31mAttributeError\u001b[0m: module 'pydotplus' has no attribute 'graph_from_dot_df'"
     ]
    }
   ],
   "source": [
    "from sklearn.tree import export_graphviz\n",
    "from sklearn.externals.six import StringIO  \n",
    "from IPython.display import Image \n",
    "import pydotplus\n",
    "from sklearn import tree\n",
    "# Create DOT df\n",
    "dot_df = StringIO()\n",
    "tree = ranfc.estimators_[50]\n",
    "\n",
    "export_graphviz(tree, out_file=dot_df,  \n",
    "                filled=True, rounded=True,\n",
    "                special_characters=True,feature_names = test_features)\n",
    "# Draw graph\n",
    "graph = pydotplus.graph_from_dot_df(dot_df.getvalue())  \n",
    "graph.write_png('hypothyroid.png')\n",
    "Image(graph.create_png())\n"
   ]
  },
  {
   "cell_type": "markdown",
   "metadata": {},
   "source": [
    "## Modelling using Ada Boost Classifier Approach"
   ]
  },
  {
   "cell_type": "code",
   "execution_count": 53,
   "metadata": {},
   "outputs": [
    {
     "data": {
      "text/plain": [
       "{'n_estimators': 70}"
      ]
     },
     "execution_count": 53,
     "metadata": {},
     "output_type": "execute_result"
    }
   ],
   "source": [
    "from sklearn.ensemble import AdaBoostClassifier\n",
    "# using grid search tom set our parameters\n",
    "param_grid = {'n_estimators': [70,100,200,300,400]}\n",
    "search = GridSearchCV(AdaBoostClassifier(), param_grid, refit =True, cv = 5, n_jobs = 1,scoring='accuracy')\n",
    "search.fit(x_train,y_train)\n",
    "search.best_params_\n",
    "\n",
    "        "
   ]
  },
  {
   "cell_type": "code",
   "execution_count": 54,
   "metadata": {},
   "outputs": [
    {
     "name": "stdout",
     "output_type": "stream",
     "text": [
      "0.990521327014218\n",
      "[[ 24   4]\n",
      " [  2 603]]\n"
     ]
    }
   ],
   "source": [
    "adb = AdaBoostClassifier( n_estimators = 70)\n",
    "adb = adb.fit(x_train, y_train)\n",
    "\n",
    "y_pred = adb.predict(x_test)\n",
    "print(accuracy_score(y_test, y_pred))\n",
    "print(confusion_matrix(y_test,y_pred))"
   ]
  },
  {
   "cell_type": "markdown",
   "metadata": {},
   "source": [
    "## Modelling using Gradient Boost Classifier Approach"
   ]
  },
  {
   "cell_type": "code",
   "execution_count": 55,
   "metadata": {},
   "outputs": [
    {
     "name": "stdout",
     "output_type": "stream",
     "text": [
      "{'learning_rate': 0.2, 'max_depth': 6, 'n_estimators': 150}\n"
     ]
    }
   ],
   "source": [
    "#importing Gradient boosting Classifier\n",
    "\n",
    "from sklearn.ensemble import GradientBoostingClassifier\n",
    "param_grid = {'n_estimators': [70, 100, 150, 200, 250],'learning_rate':[0.1, 0.2, 0.3, 0.4, 0.5], 'max_depth':[3, 4, 5, 6, 10]}\n",
    "search =GridSearchCV(GradientBoostingClassifier(), param_grid, n_jobs =1, cv=5, refit =True,scoring='accuracy')\n",
    "search.fit(x_train,y_train)\n",
    "print(search.best_params_)\n"
   ]
  },
  {
   "cell_type": "code",
   "execution_count": 56,
   "metadata": {},
   "outputs": [],
   "source": [
    "xgb = GradientBoostingClassifier(n_estimators = 150, learning_rate = 0.2, max_depth = 6)\n",
    "xgb = xgb.fit(x_train, y_train)"
   ]
  },
  {
   "cell_type": "code",
   "execution_count": 57,
   "metadata": {},
   "outputs": [
    {
     "name": "stdout",
     "output_type": "stream",
     "text": [
      "[[ 25   3]\n",
      " [  3 602]]\n",
      "0.990521327014218\n"
     ]
    }
   ],
   "source": [
    "y_pred = xgb.predict(x_test)\n",
    "print(confusion_matrix(y_test, y_pred))\n",
    "print(accuracy_score(y_test,y_pred))"
   ]
  },
  {
   "cell_type": "markdown",
   "metadata": {},
   "source": [
    "in general the model performed fairly good, with 98% accuracy. In the first category 3 0ut of 28 were wrong predictions(appro-89% accuracy) which is not so good, while in the second category, 3 0ut of 602 were wrong which is fairly good(99.6% accuracy). "
   ]
  },
  {
   "cell_type": "markdown",
   "metadata": {},
   "source": [
    "## Modelling using Support Vector Machine\n",
    "### Approach is to approach the each of the kernel first then, test the best setting in each of the kernel\n",
    "**Finding the best parameter settings in the linear kernel**"
   ]
  },
  {
   "cell_type": "code",
   "execution_count": 58,
   "metadata": {},
   "outputs": [
    {
     "name": "stdout",
     "output_type": "stream",
     "text": [
      "{'C': 0.9, 'gamma': 0.01, 'kernel': 'linear'}\n"
     ]
    }
   ],
   "source": [
    "# setting svc parameters  using GridSearchCV\n",
    "\n",
    "param_grid = { 'kernel': ['linear'],'C': (np.arange(0.1,1,0.1)) , 'gamma': [0.01,0.02,0.03,0.04,0.05]}\n",
    "search = GridSearchCV(SVC(),param_grid, cv = 5 , n_jobs =1,scoring='accuracy', refit = True)\n",
    "search.fit(x_train, y_train)\n",
    "print(search.best_params_)\n",
    "\n",
    "              "
   ]
  },
  {
   "cell_type": "markdown",
   "metadata": {},
   "source": [
    "**Finding best parameter setting using Radial Basis Function kernel**"
   ]
  },
  {
   "cell_type": "code",
   "execution_count": 62,
   "metadata": {},
   "outputs": [
    {
     "name": "stdout",
     "output_type": "stream",
     "text": [
      "{'C': 0.9, 'degree': 2, 'gamma': 0.01, 'kernel': 'rbf'}\n"
     ]
    }
   ],
   "source": [
    "# setting svc parameters  using GridSearchCV\n",
    "param_grid = {'C':(np.arange(0.1,1,0.1)),'kernel': ['rbf'],'degree': [2,3,4] ,'gamma':[0.01,0.02,0.03,0.04,0.05] }\n",
    "search = GridSearchCV(SVC(),param_grid, cv = 5 , n_jobs =1,scoring='accuracy', refit = True)\n",
    "search.fit(x_train, y_train)\n",
    "print(search.best_params_)"
   ]
  },
  {
   "cell_type": "markdown",
   "metadata": {},
   "source": [
    "**Finding the best parameter settings using polynomial Kernel**"
   ]
  },
  {
   "cell_type": "code",
   "execution_count": 63,
   "metadata": {},
   "outputs": [
    {
     "name": "stdout",
     "output_type": "stream",
     "text": [
      "{'C': 0.1, 'degree': 2, 'gamma': 0.02, 'kernel': 'poly'}\n"
     ]
    }
   ],
   "source": [
    "# setting svc parameters  using GridSearchCV\n",
    "param_grid = {'kernel': ['poly'],'degree': [2,3,4] ,'gamma':[0.01,0.02,0.03,0.04,0.05], 'C':(np.arange(0.1,0.5,0.1))}\n",
    "search = GridSearchCV(SVC(),param_grid, cv = 5 , n_jobs =1,scoring='accuracy', refit = True)\n",
    "search.fit(x_train, y_train)\n",
    "print(search.best_params_)"
   ]
  },
  {
   "cell_type": "markdown",
   "metadata": {},
   "source": [
    "**Comparing the best of the best parameters from each kernel**"
   ]
  },
  {
   "cell_type": "code",
   "execution_count": 64,
   "metadata": {},
   "outputs": [
    {
     "name": "stdout",
     "output_type": "stream",
     "text": [
      "{'C': 0.1, 'degree': 2, 'gamma': 0.02, 'kernel': 'poly'}\n"
     ]
    }
   ],
   "source": [
    "# setting svc parameters  using GridSearchCV\n",
    "param_grid = {'kernel': ['linear'] ,'gamma':[0.01], 'C':[0.9],'kernel': ['rbf'],'degree': [2] ,'gamma':[0.01], 'C':[0.09],\n",
    "             'kernel': ['poly'],'degree': [2] ,'gamma':[0.02], 'C':[0.1]}\n",
    "search = GridSearchCV(SVC(),param_grid, cv = 5 , n_jobs =1,scoring='accuracy', refit = True)\n",
    "search.fit(x_train, y_train)\n",
    "print(search.best_params_)"
   ]
  },
  {
   "cell_type": "markdown",
   "metadata": {},
   "source": [
    "**The poly kernel parameters turn out to be the best , so we will apply use it to build our model.**"
   ]
  },
  {
   "cell_type": "code",
   "execution_count": 67,
   "metadata": {},
   "outputs": [],
   "source": [
    "model_svm = SVC(kernel='poly', C = 0.1, gamma =0.02, degree = 2 )\n",
    "model_svm = model_svm.fit(x_train, y_train)"
   ]
  },
  {
   "cell_type": "code",
   "execution_count": 68,
   "metadata": {},
   "outputs": [
    {
     "name": "stdout",
     "output_type": "stream",
     "text": [
      "Accuracy:  0.9747235387045814\n",
      "[[ 18  10]\n",
      " [  6 599]]\n"
     ]
    }
   ],
   "source": [
    "#predicting \n",
    "y_pred = model_svm.predict(x_test)\n",
    "print('Accuracy: ',accuracy_score(y_test,y_pred))\n",
    "print(confusion_matrix(y_test, y_pred))"
   ]
  },
  {
   "cell_type": "markdown",
   "metadata": {},
   "source": [
    "**Observations:** The pollynomial Kernel as a poor accuracy of approxiamtely 97%, however we noted that it was able to predict one category of the feature well(appro - 99% accuracy) and performed dismally in predicting(appro - 64% accuracy) the other category.\n",
    "\n",
    "***suggested improvements:*** the dataset provided is insuffucient  to address our problem.Most of the models  sufferred from imbalanced data.Hence, it was able to predict one category failrly well and performed poorly  in predicting the other. To improve the accuracy we will have to balance our data first before training the models which will need additional data.\n"
   ]
  },
  {
   "cell_type": "code",
   "execution_count": null,
   "metadata": {},
   "outputs": [],
   "source": []
  }
 ],
 "metadata": {
  "kernelspec": {
   "display_name": "Python 3",
   "language": "python",
   "name": "python3"
  },
  "language_info": {
   "codemirror_mode": {
    "name": "ipython",
    "version": 3
   },
   "file_extension": ".py",
   "mimetype": "text/x-python",
   "name": "python",
   "nbconvert_exporter": "python",
   "pygments_lexer": "ipython3",
   "version": "3.7.4"
  }
 },
 "nbformat": 4,
 "nbformat_minor": 2
}
